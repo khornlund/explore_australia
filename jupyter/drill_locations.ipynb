{
 "cells": [
  {
   "cell_type": "code",
   "execution_count": 1,
   "metadata": {},
   "outputs": [
    {
     "name": "stdout",
     "output_type": "stream",
     "text": [
      " archive\t\t\t\t     oz_tenements.geojson\r\n",
      " betts_2008_regional_geology\t\t     regional_gravity\r\n",
      " core_photos_archive.tar\t\t     regional_magnetics\r\n",
      " drilling_database\t\t\t     regional_radiometrics\r\n",
      "'Freeman and Tomkinson 2011 Prom Hill.pdf'   regional_worms\r\n",
      " oz_mining_lease.geojson\r\n"
     ]
    }
   ],
   "source": [
    "!ls ../data"
   ]
  },
  {
   "cell_type": "code",
   "execution_count": 2,
   "metadata": {},
   "outputs": [],
   "source": [
    "%load_ext autoreload\n",
    "%autoreload 2\n",
    "%matplotlib inline"
   ]
  },
  {
   "cell_type": "code",
   "execution_count": 21,
   "metadata": {},
   "outputs": [],
   "source": [
    "import geopandas as gpd\n",
    "import pandas as pd\n",
    "import matplotlib.pyplot as plt\n",
    "from shapely.geometry import Point"
   ]
  },
  {
   "cell_type": "code",
   "execution_count": 4,
   "metadata": {},
   "outputs": [],
   "source": [
    "DATA_DIR = '../data/'"
   ]
  },
  {
   "cell_type": "code",
   "execution_count": 5,
   "metadata": {},
   "outputs": [
    {
     "data": {
      "text/html": [
       "<div>\n",
       "<style scoped>\n",
       "    .dataframe tbody tr th:only-of-type {\n",
       "        vertical-align: middle;\n",
       "    }\n",
       "\n",
       "    .dataframe tbody tr th {\n",
       "        vertical-align: top;\n",
       "    }\n",
       "\n",
       "    .dataframe thead th {\n",
       "        text-align: right;\n",
       "    }\n",
       "</style>\n",
       "<table border=\"1\" class=\"dataframe\">\n",
       "  <thead>\n",
       "    <tr style=\"text-align: right;\">\n",
       "      <th></th>\n",
       "      <th>date_sourc</th>\n",
       "      <th>objectid</th>\n",
       "      <th>tenement_t</th>\n",
       "      <th>tenement_n</th>\n",
       "      <th>tenement_l</th>\n",
       "      <th>tenement_s</th>\n",
       "      <th>licencees</th>\n",
       "      <th>operators</th>\n",
       "      <th>location</th>\n",
       "      <th>tenement_1</th>\n",
       "      <th>tenement_e</th>\n",
       "      <th>renewal_ap</th>\n",
       "      <th>court_acti</th>\n",
       "      <th>area_legal</th>\n",
       "      <th>area_unit</th>\n",
       "      <th>prior_tene</th>\n",
       "      <th>subsequent</th>\n",
       "      <th>commoditie</th>\n",
       "      <th>shape_leng</th>\n",
       "      <th>geometry</th>\n",
       "    </tr>\n",
       "  </thead>\n",
       "  <tbody>\n",
       "    <tr>\n",
       "      <th>0</th>\n",
       "      <td>2017-11-24</td>\n",
       "      <td>78</td>\n",
       "      <td>EL</td>\n",
       "      <td>5210</td>\n",
       "      <td>EL 5210</td>\n",
       "      <td>Active</td>\n",
       "      <td>OZ Minerals Prominent Hill Operations Pty Ltd ...</td>\n",
       "      <td>OZ Minerals Prominent Hill Operations Pty Ltd</td>\n",
       "      <td>Painted Hill area - approx 120 km SE of Coober...</td>\n",
       "      <td>2013-01-21</td>\n",
       "      <td>2018-01-20</td>\n",
       "      <td>2017-10-03</td>\n",
       "      <td>No</td>\n",
       "      <td>1634.0</td>\n",
       "      <td>Square Kilometres</td>\n",
       "      <td>EL4025; EL3056; EL2483; EL1816; EL1448;</td>\n",
       "      <td>None</td>\n",
       "      <td>Silver; Iron Ore; Gold; Copper</td>\n",
       "      <td>2.066648</td>\n",
       "      <td>POLYGON ((135.7179869997473 -29.46521000050849...</td>\n",
       "    </tr>\n",
       "  </tbody>\n",
       "</table>\n",
       "</div>"
      ],
      "text/plain": [
       "   date_sourc  objectid tenement_t  tenement_n tenement_l tenement_s  \\\n",
       "0  2017-11-24        78         EL        5210    EL 5210     Active   \n",
       "\n",
       "                                           licencees  \\\n",
       "0  OZ Minerals Prominent Hill Operations Pty Ltd ...   \n",
       "\n",
       "                                       operators  \\\n",
       "0  OZ Minerals Prominent Hill Operations Pty Ltd   \n",
       "\n",
       "                                            location  tenement_1  tenement_e  \\\n",
       "0  Painted Hill area - approx 120 km SE of Coober...  2013-01-21  2018-01-20   \n",
       "\n",
       "   renewal_ap court_acti  area_legal          area_unit  \\\n",
       "0  2017-10-03         No      1634.0  Square Kilometres   \n",
       "\n",
       "                                prior_tene subsequent  \\\n",
       "0  EL4025; EL3056; EL2483; EL1816; EL1448;       None   \n",
       "\n",
       "                       commoditie  shape_leng  \\\n",
       "0  Silver; Iron Ore; Gold; Copper    2.066648   \n",
       "\n",
       "                                            geometry  \n",
       "0  POLYGON ((135.7179869997473 -29.46521000050849...  "
      ]
     },
     "execution_count": 5,
     "metadata": {},
     "output_type": "execute_result"
    }
   ],
   "source": [
    "gdf = gpd.read_file(DATA_DIR + 'oz_tenements.geojson')\n",
    "gdf.head(1)"
   ]
  },
  {
   "cell_type": "code",
   "execution_count": 27,
   "metadata": {},
   "outputs": [
    {
     "data": {
      "text/html": [
       "<div>\n",
       "<style scoped>\n",
       "    .dataframe tbody tr th:only-of-type {\n",
       "        vertical-align: middle;\n",
       "    }\n",
       "\n",
       "    .dataframe tbody tr th {\n",
       "        vertical-align: top;\n",
       "    }\n",
       "\n",
       "    .dataframe thead th {\n",
       "        text-align: right;\n",
       "    }\n",
       "</style>\n",
       "<table border=\"1\" class=\"dataframe\">\n",
       "  <thead>\n",
       "    <tr style=\"text-align: right;\">\n",
       "      <th></th>\n",
       "      <th>SiteId</th>\n",
       "      <th>PROJECT</th>\n",
       "      <th>PROSPECT</th>\n",
       "      <th>SiteType</th>\n",
       "      <th>TDEPTH</th>\n",
       "      <th>East</th>\n",
       "      <th>North</th>\n",
       "      <th>RL</th>\n",
       "      <th>Grid</th>\n",
       "      <th>Azimuth</th>\n",
       "      <th>Dip</th>\n",
       "      <th>North_Adjust</th>\n",
       "      <th>Site_Status</th>\n",
       "      <th>Date</th>\n",
       "      <th>Comments</th>\n",
       "      <th>geometry</th>\n",
       "      <th>latitude</th>\n",
       "      <th>longitude</th>\n",
       "    </tr>\n",
       "  </thead>\n",
       "  <tbody>\n",
       "    <tr>\n",
       "      <th>0</th>\n",
       "      <td>90AMSTRC1</td>\n",
       "      <td>SAR</td>\n",
       "      <td>ARM</td>\n",
       "      <td>UN</td>\n",
       "      <td>175.0</td>\n",
       "      <td>560128.0</td>\n",
       "      <td>6724929.0</td>\n",
       "      <td>183.42</td>\n",
       "      <td>GDA94_53S</td>\n",
       "      <td>360.0</td>\n",
       "      <td>-60.0</td>\n",
       "      <td>0.0</td>\n",
       "      <td>NaN</td>\n",
       "      <td>NaN</td>\n",
       "      <td>Drilled by Burmine Exploration Ltd Logging = 8...</td>\n",
       "      <td>POINT (135.6209693662447 -29.6040304345167)</td>\n",
       "      <td>-29.60403</td>\n",
       "      <td>135.620969</td>\n",
       "    </tr>\n",
       "  </tbody>\n",
       "</table>\n",
       "</div>"
      ],
      "text/plain": [
       "      SiteId PROJECT PROSPECT SiteType  TDEPTH      East      North      RL  \\\n",
       "0  90AMSTRC1     SAR      ARM       UN   175.0  560128.0  6724929.0  183.42   \n",
       "\n",
       "        Grid  Azimuth   Dip  North_Adjust Site_Status Date  \\\n",
       "0  GDA94_53S    360.0 -60.0           0.0         NaN  NaN   \n",
       "\n",
       "                                            Comments  \\\n",
       "0  Drilled by Burmine Exploration Ltd Logging = 8...   \n",
       "\n",
       "                                      geometry  latitude   longitude  \n",
       "0  POINT (135.6209693662447 -29.6040304345167) -29.60403  135.620969  "
      ]
     },
     "execution_count": 27,
     "metadata": {},
     "output_type": "execute_result"
    }
   ],
   "source": [
    "pdf = pd.read_csv(DATA_DIR + 'drilling_database/drilling_database/collars.csv')\n",
    "pdf.head(1)"
   ]
  },
  {
   "cell_type": "code",
   "execution_count": 36,
   "metadata": {},
   "outputs": [
    {
     "data": {
      "text/html": [
       "<div>\n",
       "<style scoped>\n",
       "    .dataframe tbody tr th:only-of-type {\n",
       "        vertical-align: middle;\n",
       "    }\n",
       "\n",
       "    .dataframe tbody tr th {\n",
       "        vertical-align: top;\n",
       "    }\n",
       "\n",
       "    .dataframe thead th {\n",
       "        text-align: right;\n",
       "    }\n",
       "</style>\n",
       "<table border=\"1\" class=\"dataframe\">\n",
       "  <thead>\n",
       "    <tr style=\"text-align: right;\">\n",
       "      <th></th>\n",
       "      <th>SiteId</th>\n",
       "      <th>PROJECT</th>\n",
       "      <th>PROSPECT</th>\n",
       "      <th>SiteType</th>\n",
       "      <th>TDEPTH</th>\n",
       "      <th>East</th>\n",
       "      <th>North</th>\n",
       "      <th>RL</th>\n",
       "      <th>Grid</th>\n",
       "      <th>Azimuth</th>\n",
       "      <th>Dip</th>\n",
       "      <th>North_Adjust</th>\n",
       "      <th>Site_Status</th>\n",
       "      <th>Date</th>\n",
       "      <th>Comments</th>\n",
       "      <th>geometry</th>\n",
       "      <th>latitude</th>\n",
       "      <th>longitude</th>\n",
       "    </tr>\n",
       "  </thead>\n",
       "  <tbody>\n",
       "    <tr>\n",
       "      <th>0</th>\n",
       "      <td>90AMSTRC1</td>\n",
       "      <td>SAR</td>\n",
       "      <td>ARM</td>\n",
       "      <td>UN</td>\n",
       "      <td>175.0</td>\n",
       "      <td>560128.0</td>\n",
       "      <td>6724929.0</td>\n",
       "      <td>183.42</td>\n",
       "      <td>GDA94_53S</td>\n",
       "      <td>360.0</td>\n",
       "      <td>-60.0</td>\n",
       "      <td>0.0</td>\n",
       "      <td>NaN</td>\n",
       "      <td>NaN</td>\n",
       "      <td>Drilled by Burmine Exploration Ltd Logging = 8...</td>\n",
       "      <td>POINT (135.6209693662447 -29.6040304345167)</td>\n",
       "      <td>-29.604030</td>\n",
       "      <td>135.620969</td>\n",
       "    </tr>\n",
       "    <tr>\n",
       "      <th>1</th>\n",
       "      <td>90CBLRC1</td>\n",
       "      <td>SAR</td>\n",
       "      <td>CBL</td>\n",
       "      <td>UN</td>\n",
       "      <td>90.0</td>\n",
       "      <td>541267.0</td>\n",
       "      <td>6763592.0</td>\n",
       "      <td>138.20</td>\n",
       "      <td>GDA94_53S</td>\n",
       "      <td>355.0</td>\n",
       "      <td>-60.0</td>\n",
       "      <td>0.0</td>\n",
       "      <td>NaN</td>\n",
       "      <td>NaN</td>\n",
       "      <td>Drilled by Burmine Exploration Ltd. No samples...</td>\n",
       "      <td>POINT (135.4247342739822 -29.25585995915789)</td>\n",
       "      <td>-29.255860</td>\n",
       "      <td>135.424734</td>\n",
       "    </tr>\n",
       "    <tr>\n",
       "      <th>2</th>\n",
       "      <td>90CBLRC2</td>\n",
       "      <td>SAR</td>\n",
       "      <td>CBL</td>\n",
       "      <td>UN</td>\n",
       "      <td>176.0</td>\n",
       "      <td>541268.0</td>\n",
       "      <td>6763634.0</td>\n",
       "      <td>138.08</td>\n",
       "      <td>GDA94_53S</td>\n",
       "      <td>355.0</td>\n",
       "      <td>-60.0</td>\n",
       "      <td>0.0</td>\n",
       "      <td>NaN</td>\n",
       "      <td>NaN</td>\n",
       "      <td>Drilled by Burmine Exploration Ltd. Logging = ...</td>\n",
       "      <td>POINT (135.4247430000125 -29.25548086069217)</td>\n",
       "      <td>-29.255481</td>\n",
       "      <td>135.424743</td>\n",
       "    </tr>\n",
       "    <tr>\n",
       "      <th>3</th>\n",
       "      <td>90EARRC1</td>\n",
       "      <td>SAR</td>\n",
       "      <td>EAR</td>\n",
       "      <td>UN</td>\n",
       "      <td>174.0</td>\n",
       "      <td>567848.0</td>\n",
       "      <td>6712549.0</td>\n",
       "      <td>206.15</td>\n",
       "      <td>GDA94_53S</td>\n",
       "      <td>360.0</td>\n",
       "      <td>-60.0</td>\n",
       "      <td>0.0</td>\n",
       "      <td>ABANDONED</td>\n",
       "      <td>NaN</td>\n",
       "      <td>Drilled by Burmine Exploration Ltd Logging = b...</td>\n",
       "      <td>POINT (135.7014672283697 -29.71535551517101)</td>\n",
       "      <td>-29.715356</td>\n",
       "      <td>135.701467</td>\n",
       "    </tr>\n",
       "    <tr>\n",
       "      <th>4</th>\n",
       "      <td>90EROSRC1</td>\n",
       "      <td>SAR</td>\n",
       "      <td>ERO</td>\n",
       "      <td>UN</td>\n",
       "      <td>187.0</td>\n",
       "      <td>560928.0</td>\n",
       "      <td>6751969.0</td>\n",
       "      <td>137.75</td>\n",
       "      <td>GDA94_53S</td>\n",
       "      <td>360.0</td>\n",
       "      <td>-60.0</td>\n",
       "      <td>0.0</td>\n",
       "      <td>NaN</td>\n",
       "      <td>NaN</td>\n",
       "      <td>Drilled by Burmine Exploration Ltd Logging = 5...</td>\n",
       "      <td>POINT (135.6277252164071 -29.35996166586881)</td>\n",
       "      <td>-29.359962</td>\n",
       "      <td>135.627725</td>\n",
       "    </tr>\n",
       "  </tbody>\n",
       "</table>\n",
       "</div>"
      ],
      "text/plain": [
       "      SiteId PROJECT PROSPECT SiteType  TDEPTH      East      North      RL  \\\n",
       "0  90AMSTRC1     SAR      ARM       UN   175.0  560128.0  6724929.0  183.42   \n",
       "1   90CBLRC1     SAR      CBL       UN    90.0  541267.0  6763592.0  138.20   \n",
       "2   90CBLRC2     SAR      CBL       UN   176.0  541268.0  6763634.0  138.08   \n",
       "3   90EARRC1     SAR      EAR       UN   174.0  567848.0  6712549.0  206.15   \n",
       "4  90EROSRC1     SAR      ERO       UN   187.0  560928.0  6751969.0  137.75   \n",
       "\n",
       "        Grid  Azimuth   Dip  North_Adjust Site_Status Date  \\\n",
       "0  GDA94_53S    360.0 -60.0           0.0         NaN  NaN   \n",
       "1  GDA94_53S    355.0 -60.0           0.0         NaN  NaN   \n",
       "2  GDA94_53S    355.0 -60.0           0.0         NaN  NaN   \n",
       "3  GDA94_53S    360.0 -60.0           0.0   ABANDONED  NaN   \n",
       "4  GDA94_53S    360.0 -60.0           0.0         NaN  NaN   \n",
       "\n",
       "                                            Comments  \\\n",
       "0  Drilled by Burmine Exploration Ltd Logging = 8...   \n",
       "1  Drilled by Burmine Exploration Ltd. No samples...   \n",
       "2  Drilled by Burmine Exploration Ltd. Logging = ...   \n",
       "3  Drilled by Burmine Exploration Ltd Logging = b...   \n",
       "4  Drilled by Burmine Exploration Ltd Logging = 5...   \n",
       "\n",
       "                                       geometry   latitude   longitude  \n",
       "0   POINT (135.6209693662447 -29.6040304345167) -29.604030  135.620969  \n",
       "1  POINT (135.4247342739822 -29.25585995915789) -29.255860  135.424734  \n",
       "2  POINT (135.4247430000125 -29.25548086069217) -29.255481  135.424743  \n",
       "3  POINT (135.7014672283697 -29.71535551517101) -29.715356  135.701467  \n",
       "4  POINT (135.6277252164071 -29.35996166586881) -29.359962  135.627725  "
      ]
     },
     "execution_count": 36,
     "metadata": {},
     "output_type": "execute_result"
    }
   ],
   "source": [
    "geometry = [Point(xy) for xy in zip(pdf.longitude, pdf.latitude)]\n",
    "pdf.drop(['geometry'], axis=1)\n",
    "geom_pdf = gpd.GeoDataFrame(pdf, crs={'init': 'epsg:4326'}, geometry=geometry)\n",
    "geom_pdf.head()"
   ]
  },
  {
   "cell_type": "code",
   "execution_count": 33,
   "metadata": {},
   "outputs": [
    {
     "name": "stdout",
     "output_type": "stream",
     "text": [
      "(6,)\n",
      "(678, 18)\n"
     ]
    }
   ],
   "source": [
    "print(geom_gdf.shape)\n",
    "print(geom_pdf.shape)"
   ]
  },
  {
   "cell_type": "code",
   "execution_count": 43,
   "metadata": {},
   "outputs": [
    {
     "ename": "TypeError",
     "evalue": "from_bounds() argument after * must be an iterable, not int",
     "output_type": "error",
     "traceback": [
      "\u001b[0;31m---------------------------------------------------------------------------\u001b[0m",
      "\u001b[0;31mTypeError\u001b[0m                                 Traceback (most recent call last)",
      "\u001b[0;32m<ipython-input-43-58b447dcf4ea>\u001b[0m in \u001b[0;36m<module>\u001b[0;34m\u001b[0m\n\u001b[0;32m----> 1\u001b[0;31m \u001b[0mfix\u001b[0m\u001b[0;34m,\u001b[0m \u001b[0max\u001b[0m \u001b[0;34m=\u001b[0m \u001b[0mplt\u001b[0m\u001b[0;34m.\u001b[0m\u001b[0msubplots\u001b[0m\u001b[0;34m(\u001b[0m\u001b[0mfigsize\u001b[0m\u001b[0;34m=\u001b[0m\u001b[0;36m16\u001b[0m\u001b[0;34m)\u001b[0m\u001b[0;34m\u001b[0m\u001b[0;34m\u001b[0m\u001b[0m\n\u001b[0m\u001b[1;32m      2\u001b[0m \u001b[0max\u001b[0m\u001b[0;34m.\u001b[0m\u001b[0mset_aspect\u001b[0m\u001b[0;34m(\u001b[0m\u001b[0;34m'equal'\u001b[0m\u001b[0;34m)\u001b[0m\u001b[0;34m\u001b[0m\u001b[0;34m\u001b[0m\u001b[0m\n\u001b[1;32m      3\u001b[0m \u001b[0mgeom_gdf\u001b[0m\u001b[0;34m.\u001b[0m\u001b[0mplot\u001b[0m\u001b[0;34m(\u001b[0m\u001b[0max\u001b[0m\u001b[0;34m=\u001b[0m\u001b[0max\u001b[0m\u001b[0;34m,\u001b[0m \u001b[0mcolor\u001b[0m\u001b[0;34m=\u001b[0m\u001b[0;34m'white'\u001b[0m\u001b[0;34m,\u001b[0m \u001b[0medgecolor\u001b[0m\u001b[0;34m=\u001b[0m\u001b[0;34m'black'\u001b[0m\u001b[0;34m)\u001b[0m\u001b[0;34m\u001b[0m\u001b[0;34m\u001b[0m\u001b[0m\n\u001b[1;32m      4\u001b[0m \u001b[0mgeom_pdf\u001b[0m\u001b[0;34m.\u001b[0m\u001b[0mplot\u001b[0m\u001b[0;34m(\u001b[0m\u001b[0max\u001b[0m\u001b[0;34m=\u001b[0m\u001b[0max\u001b[0m\u001b[0;34m,\u001b[0m \u001b[0mmarker\u001b[0m\u001b[0;34m=\u001b[0m\u001b[0;34m'o'\u001b[0m\u001b[0;34m,\u001b[0m \u001b[0mcolor\u001b[0m\u001b[0;34m=\u001b[0m\u001b[0;34m'r'\u001b[0m\u001b[0;34m,\u001b[0m \u001b[0mmarkersize\u001b[0m\u001b[0;34m=\u001b[0m\u001b[0;36m5\u001b[0m\u001b[0;34m)\u001b[0m\u001b[0;34m\u001b[0m\u001b[0;34m\u001b[0m\u001b[0m\n\u001b[1;32m      5\u001b[0m \u001b[0;34m\u001b[0m\u001b[0m\n",
      "\u001b[0;32m~/.conda/envs/explore_australia/lib/python3.6/site-packages/matplotlib/pyplot.py\u001b[0m in \u001b[0;36msubplots\u001b[0;34m(nrows, ncols, sharex, sharey, squeeze, subplot_kw, gridspec_kw, **fig_kw)\u001b[0m\n\u001b[1;32m   1215\u001b[0m \u001b[0;34m\u001b[0m\u001b[0m\n\u001b[1;32m   1216\u001b[0m     \"\"\"\n\u001b[0;32m-> 1217\u001b[0;31m     \u001b[0mfig\u001b[0m \u001b[0;34m=\u001b[0m \u001b[0mfigure\u001b[0m\u001b[0;34m(\u001b[0m\u001b[0;34m**\u001b[0m\u001b[0mfig_kw\u001b[0m\u001b[0;34m)\u001b[0m\u001b[0;34m\u001b[0m\u001b[0;34m\u001b[0m\u001b[0m\n\u001b[0m\u001b[1;32m   1218\u001b[0m     axs = fig.subplots(nrows=nrows, ncols=ncols, sharex=sharex, sharey=sharey,\n\u001b[1;32m   1219\u001b[0m                        \u001b[0msqueeze\u001b[0m\u001b[0;34m=\u001b[0m\u001b[0msqueeze\u001b[0m\u001b[0;34m,\u001b[0m \u001b[0msubplot_kw\u001b[0m\u001b[0;34m=\u001b[0m\u001b[0msubplot_kw\u001b[0m\u001b[0;34m,\u001b[0m\u001b[0;34m\u001b[0m\u001b[0;34m\u001b[0m\u001b[0m\n",
      "\u001b[0;32m~/.conda/envs/explore_australia/lib/python3.6/site-packages/matplotlib/pyplot.py\u001b[0m in \u001b[0;36mfigure\u001b[0;34m(num, figsize, dpi, facecolor, edgecolor, frameon, FigureClass, clear, **kwargs)\u001b[0m\n\u001b[1;32m    523\u001b[0m                                         \u001b[0mframeon\u001b[0m\u001b[0;34m=\u001b[0m\u001b[0mframeon\u001b[0m\u001b[0;34m,\u001b[0m\u001b[0;34m\u001b[0m\u001b[0;34m\u001b[0m\u001b[0m\n\u001b[1;32m    524\u001b[0m                                         \u001b[0mFigureClass\u001b[0m\u001b[0;34m=\u001b[0m\u001b[0mFigureClass\u001b[0m\u001b[0;34m,\u001b[0m\u001b[0;34m\u001b[0m\u001b[0;34m\u001b[0m\u001b[0m\n\u001b[0;32m--> 525\u001b[0;31m                                         **kwargs)\n\u001b[0m\u001b[1;32m    526\u001b[0m \u001b[0;34m\u001b[0m\u001b[0m\n\u001b[1;32m    527\u001b[0m         \u001b[0;32mif\u001b[0m \u001b[0mfigLabel\u001b[0m\u001b[0;34m:\u001b[0m\u001b[0;34m\u001b[0m\u001b[0;34m\u001b[0m\u001b[0m\n",
      "\u001b[0;32m~/.conda/envs/explore_australia/lib/python3.6/site-packages/matplotlib/backend_bases.py\u001b[0m in \u001b[0;36mnew_figure_manager\u001b[0;34m(cls, num, *args, **kwargs)\u001b[0m\n\u001b[1;32m   3215\u001b[0m         \u001b[0;32mfrom\u001b[0m \u001b[0mmatplotlib\u001b[0m\u001b[0;34m.\u001b[0m\u001b[0mfigure\u001b[0m \u001b[0;32mimport\u001b[0m \u001b[0mFigure\u001b[0m\u001b[0;34m\u001b[0m\u001b[0;34m\u001b[0m\u001b[0m\n\u001b[1;32m   3216\u001b[0m         \u001b[0mfig_cls\u001b[0m \u001b[0;34m=\u001b[0m \u001b[0mkwargs\u001b[0m\u001b[0;34m.\u001b[0m\u001b[0mpop\u001b[0m\u001b[0;34m(\u001b[0m\u001b[0;34m'FigureClass'\u001b[0m\u001b[0;34m,\u001b[0m \u001b[0mFigure\u001b[0m\u001b[0;34m)\u001b[0m\u001b[0;34m\u001b[0m\u001b[0;34m\u001b[0m\u001b[0m\n\u001b[0;32m-> 3217\u001b[0;31m         \u001b[0mfig\u001b[0m \u001b[0;34m=\u001b[0m \u001b[0mfig_cls\u001b[0m\u001b[0;34m(\u001b[0m\u001b[0;34m*\u001b[0m\u001b[0margs\u001b[0m\u001b[0;34m,\u001b[0m \u001b[0;34m**\u001b[0m\u001b[0mkwargs\u001b[0m\u001b[0;34m)\u001b[0m\u001b[0;34m\u001b[0m\u001b[0;34m\u001b[0m\u001b[0m\n\u001b[0m\u001b[1;32m   3218\u001b[0m         \u001b[0;32mreturn\u001b[0m \u001b[0mcls\u001b[0m\u001b[0;34m.\u001b[0m\u001b[0mnew_figure_manager_given_figure\u001b[0m\u001b[0;34m(\u001b[0m\u001b[0mnum\u001b[0m\u001b[0;34m,\u001b[0m \u001b[0mfig\u001b[0m\u001b[0;34m)\u001b[0m\u001b[0;34m\u001b[0m\u001b[0;34m\u001b[0m\u001b[0m\n\u001b[1;32m   3219\u001b[0m \u001b[0;34m\u001b[0m\u001b[0m\n",
      "\u001b[0;32m~/.conda/envs/explore_australia/lib/python3.6/site-packages/matplotlib/figure.py\u001b[0m in \u001b[0;36m__init__\u001b[0;34m(self, figsize, dpi, facecolor, edgecolor, linewidth, frameon, subplotpars, tight_layout, constrained_layout)\u001b[0m\n\u001b[1;32m    354\u001b[0m             raise ValueError('figure size must be finite not '\n\u001b[1;32m    355\u001b[0m                              '{}'.format(figsize))\n\u001b[0;32m--> 356\u001b[0;31m         \u001b[0mself\u001b[0m\u001b[0;34m.\u001b[0m\u001b[0mbbox_inches\u001b[0m \u001b[0;34m=\u001b[0m \u001b[0mBbox\u001b[0m\u001b[0;34m.\u001b[0m\u001b[0mfrom_bounds\u001b[0m\u001b[0;34m(\u001b[0m\u001b[0;36m0\u001b[0m\u001b[0;34m,\u001b[0m \u001b[0;36m0\u001b[0m\u001b[0;34m,\u001b[0m \u001b[0;34m*\u001b[0m\u001b[0mfigsize\u001b[0m\u001b[0;34m)\u001b[0m\u001b[0;34m\u001b[0m\u001b[0;34m\u001b[0m\u001b[0m\n\u001b[0m\u001b[1;32m    357\u001b[0m \u001b[0;34m\u001b[0m\u001b[0m\n\u001b[1;32m    358\u001b[0m         \u001b[0mself\u001b[0m\u001b[0;34m.\u001b[0m\u001b[0mdpi_scale_trans\u001b[0m \u001b[0;34m=\u001b[0m \u001b[0mAffine2D\u001b[0m\u001b[0;34m(\u001b[0m\u001b[0;34m)\u001b[0m\u001b[0;34m.\u001b[0m\u001b[0mscale\u001b[0m\u001b[0;34m(\u001b[0m\u001b[0mdpi\u001b[0m\u001b[0;34m,\u001b[0m \u001b[0mdpi\u001b[0m\u001b[0;34m)\u001b[0m\u001b[0;34m\u001b[0m\u001b[0;34m\u001b[0m\u001b[0m\n",
      "\u001b[0;31mTypeError\u001b[0m: from_bounds() argument after * must be an iterable, not int"
     ]
    }
   ],
   "source": [
    "fix, ax = plt.subplots(figsize=16)\n",
    "ax.set_aspect('equal')\n",
    "geom_gdf.plot(ax=ax, color='white', edgecolor='black')\n",
    "geom_pdf.plot(ax=ax, marker='o', color='r', markersize=5)\n",
    "\n",
    "plt.show()"
   ]
  },
  {
   "cell_type": "code",
   "execution_count": 15,
   "metadata": {},
   "outputs": [
    {
     "data": {
      "text/plain": [
       "dtype('O')"
      ]
     },
     "execution_count": 15,
     "metadata": {},
     "output_type": "execute_result"
    }
   ],
   "source": [
    "geom_gdf.dtypes"
   ]
  },
  {
   "cell_type": "code",
   "execution_count": 14,
   "metadata": {},
   "outputs": [
    {
     "data": {
      "text/plain": [
       "geometry    object\n",
       "dtype: object"
      ]
     },
     "execution_count": 14,
     "metadata": {},
     "output_type": "execute_result"
    }
   ],
   "source": [
    "geom_pdf.dtypes"
   ]
  },
  {
   "cell_type": "code",
   "execution_count": null,
   "metadata": {},
   "outputs": [],
   "source": []
  }
 ],
 "metadata": {
  "kernelspec": {
   "display_name": "Python 3",
   "language": "python",
   "name": "python3"
  },
  "language_info": {
   "codemirror_mode": {
    "name": "ipython",
    "version": 3
   },
   "file_extension": ".py",
   "mimetype": "text/x-python",
   "name": "python",
   "nbconvert_exporter": "python",
   "pygments_lexer": "ipython3",
   "version": "3.6.7"
  }
 },
 "nbformat": 4,
 "nbformat_minor": 2
}
